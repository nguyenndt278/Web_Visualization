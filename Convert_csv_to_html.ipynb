{
 "cells": [
  {
   "cell_type": "code",
   "execution_count": 1,
   "metadata": {},
   "outputs": [],
   "source": [
    "import pandas as pd\n"
   ]
  },
  {
   "cell_type": "code",
   "execution_count": 4,
   "metadata": {},
   "outputs": [],
   "source": [
    "file='data\\\\PyWeatherTable.csv'"
   ]
  },
  {
   "cell_type": "code",
   "execution_count": 6,
   "metadata": {},
   "outputs": [
    {
     "data": {
      "text/html": [
       "<div>\n",
       "<style scoped>\n",
       "    .dataframe tbody tr th:only-of-type {\n",
       "        vertical-align: middle;\n",
       "    }\n",
       "\n",
       "    .dataframe tbody tr th {\n",
       "        vertical-align: top;\n",
       "    }\n",
       "\n",
       "    .dataframe thead th {\n",
       "        text-align: right;\n",
       "    }\n",
       "</style>\n",
       "<table border=\"1\" class=\"dataframe\">\n",
       "  <thead>\n",
       "    <tr style=\"text-align: right;\">\n",
       "      <th></th>\n",
       "      <th>City</th>\n",
       "      <th>Latitude</th>\n",
       "      <th>Longitude</th>\n",
       "      <th>Max Temperature</th>\n",
       "      <th>Humidity</th>\n",
       "      <th>Cloudiness</th>\n",
       "      <th>Wind Speed</th>\n",
       "      <th>City Country</th>\n",
       "      <th>City Date</th>\n",
       "    </tr>\n",
       "  </thead>\n",
       "  <tbody>\n",
       "    <tr>\n",
       "      <td>0</td>\n",
       "      <td>saint-denis</td>\n",
       "      <td>48.94</td>\n",
       "      <td>2.36</td>\n",
       "      <td>290.15</td>\n",
       "      <td>55</td>\n",
       "      <td>0</td>\n",
       "      <td>1.50</td>\n",
       "      <td>FR</td>\n",
       "      <td>1567461072</td>\n",
       "    </tr>\n",
       "    <tr>\n",
       "      <td>1</td>\n",
       "      <td>suez</td>\n",
       "      <td>29.97</td>\n",
       "      <td>32.54</td>\n",
       "      <td>297.00</td>\n",
       "      <td>78</td>\n",
       "      <td>0</td>\n",
       "      <td>5.05</td>\n",
       "      <td>EG</td>\n",
       "      <td>1567461072</td>\n",
       "    </tr>\n",
       "    <tr>\n",
       "      <td>2</td>\n",
       "      <td>karasburg</td>\n",
       "      <td>-28.01</td>\n",
       "      <td>18.75</td>\n",
       "      <td>288.90</td>\n",
       "      <td>10</td>\n",
       "      <td>3</td>\n",
       "      <td>4.93</td>\n",
       "      <td>NaN</td>\n",
       "      <td>1567461073</td>\n",
       "    </tr>\n",
       "    <tr>\n",
       "      <td>3</td>\n",
       "      <td>adrar</td>\n",
       "      <td>27.87</td>\n",
       "      <td>-0.29</td>\n",
       "      <td>309.15</td>\n",
       "      <td>18</td>\n",
       "      <td>0</td>\n",
       "      <td>5.70</td>\n",
       "      <td>DZ</td>\n",
       "      <td>1567461074</td>\n",
       "    </tr>\n",
       "    <tr>\n",
       "      <td>4</td>\n",
       "      <td>laguna</td>\n",
       "      <td>16.17</td>\n",
       "      <td>-88.94</td>\n",
       "      <td>306.15</td>\n",
       "      <td>59</td>\n",
       "      <td>40</td>\n",
       "      <td>3.10</td>\n",
       "      <td>BZ</td>\n",
       "      <td>1567461075</td>\n",
       "    </tr>\n",
       "  </tbody>\n",
       "</table>\n",
       "</div>"
      ],
      "text/plain": [
       "          City  Latitude  Longitude  Max Temperature  Humidity  Cloudiness  \\\n",
       "0  saint-denis     48.94       2.36           290.15        55           0   \n",
       "1         suez     29.97      32.54           297.00        78           0   \n",
       "2    karasburg    -28.01      18.75           288.90        10           3   \n",
       "3        adrar     27.87      -0.29           309.15        18           0   \n",
       "4       laguna     16.17     -88.94           306.15        59          40   \n",
       "\n",
       "   Wind Speed City Country   City Date  \n",
       "0        1.50           FR  1567461072  \n",
       "1        5.05           EG  1567461072  \n",
       "2        4.93          NaN  1567461073  \n",
       "3        5.70           DZ  1567461074  \n",
       "4        3.10           BZ  1567461075  "
      ]
     },
     "execution_count": 6,
     "metadata": {},
     "output_type": "execute_result"
    }
   ],
   "source": [
    "df=pd.read_csv(file)\n",
    "df.head()"
   ]
  },
  {
   "cell_type": "code",
   "execution_count": 10,
   "metadata": {},
   "outputs": [],
   "source": [
    "df.to_html('Data_Py.html')"
   ]
  },
  {
   "cell_type": "code",
   "execution_count": null,
   "metadata": {},
   "outputs": [],
   "source": []
  }
 ],
 "metadata": {
  "kernelspec": {
   "display_name": "Python 3",
   "language": "python",
   "name": "python3"
  },
  "language_info": {
   "codemirror_mode": {
    "name": "ipython",
    "version": 3
   },
   "file_extension": ".py",
   "mimetype": "text/x-python",
   "name": "python",
   "nbconvert_exporter": "python",
   "pygments_lexer": "ipython3",
   "version": "3.7.4"
  }
 },
 "nbformat": 4,
 "nbformat_minor": 2
}
